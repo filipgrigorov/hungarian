{
 "cells": [
  {
   "cell_type": "code",
   "execution_count": 1,
   "metadata": {},
   "outputs": [],
   "source": [
    "import matplotlib.pyplot as plt\n",
    "import numpy as np\n",
    "\n",
    "%matplotlib inline"
   ]
  },
  {
   "cell_type": "code",
   "execution_count": 13,
   "metadata": {},
   "outputs": [],
   "source": [
    "def hungarian(cost_matrix_np):\n",
    "    rows = cost_matrix_np.shape[0]\n",
    "    cols = cost_matrix_np.shape[0]\n",
    "    \n",
    "    for row in np.arange(0, rows):\n",
    "        row_min = np.min(cost_matrix_np[row, :])\n",
    "        cost_matrix_np[row, :] -= row_min\n",
    "    \n",
    "    for col in np.arange(0, cols):\n",
    "        col_min = np.min(cost_matrix_np[:, col])\n",
    "        cost_matrix_np[:, col] -= col_min\n",
    "            \n",
    "    print(cost_matrix_np)"
   ]
  },
  {
   "cell_type": "code",
   "execution_count": 14,
   "metadata": {},
   "outputs": [
    {
     "name": "stdout",
     "output_type": "stream",
     "text": [
      "[[   0    0 1000]\n",
      " [ 500 1000    0]\n",
      " [   0  500  500]]\n",
      "None\n"
     ]
    }
   ],
   "source": [
    "cost_matrix = np.array([\n",
    "    [2500, 4000, 3500],\n",
    "    [4000, 6000, 3500],\n",
    "    [2000, 4000, 2500]\n",
    "])\n",
    "\n",
    "assignments = hungarian(cost_matrix)\n",
    "\n",
    "print(assignments)"
   ]
  },
  {
   "cell_type": "code",
   "execution_count": null,
   "metadata": {},
   "outputs": [],
   "source": []
  }
 ],
 "metadata": {
  "kernelspec": {
   "display_name": "Python 3",
   "language": "python",
   "name": "python3"
  },
  "language_info": {
   "codemirror_mode": {
    "name": "ipython",
    "version": 3
   },
   "file_extension": ".py",
   "mimetype": "text/x-python",
   "name": "python",
   "nbconvert_exporter": "python",
   "pygments_lexer": "ipython3",
   "version": "3.7.4"
  }
 },
 "nbformat": 4,
 "nbformat_minor": 4
}
