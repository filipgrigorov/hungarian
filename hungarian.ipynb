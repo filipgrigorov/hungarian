{
 "cells": [
  {
   "cell_type": "code",
   "execution_count": 1,
   "metadata": {},
   "outputs": [],
   "source": [
    "import matplotlib.pyplot as plt\n",
    "import numpy as np\n",
    "\n",
    "%matplotlib inline"
   ]
  },
  {
   "cell_type": "code",
   "execution_count": 34,
   "metadata": {},
   "outputs": [],
   "source": [
    "def hungarian(cost_matrix_np):\n",
    "    n = cost_matrix_np.shape[0]\n",
    "    \n",
    "    rows = cost_matrix_np.shape[0]\n",
    "    cols = cost_matrix_np.shape[0]\n",
    "    \n",
    "    for row in np.arange(0, rows):\n",
    "        row_min = np.min(cost_matrix_np[row, :])\n",
    "        cost_matrix_np[row, :] -= row_min\n",
    "    \n",
    "    for col in np.arange(0, cols):\n",
    "        col_min = np.min(cost_matrix_np[:, col])\n",
    "        cost_matrix_np[:, col] -= col_min\n",
    "        \n",
    "    print(cost_matrix)\n",
    "       \n",
    "    #(1)\n",
    "    rows_with_zeros = []\n",
    "    for row in np.arange(0, rows):\n",
    "        indices = cost_matrix[row, cost_matrix[row, :] == 0]\n",
    "        if len(indices) > 1:\n",
    "            print('row: ', row)\n",
    "            rows_with_zeros.append(([row, np.arange(0, cols)], len(indices)))\n",
    "            \n",
    "    print('Rows with zeros in them: ', rows_with_zeros)\n",
    "    \n",
    "    #(2) Check which line has the most zeros\n",
    "    lines = None\n",
    "    \n",
    "    prev_n_zeros = 0\n",
    "    max_idx = 0\n",
    "    max_row = 0\n",
    "    for idx in np.arange(0, len(rows_with_zeros)):\n",
    "        n_zeros = rows_with_zeros[idx][1]\n",
    "        if n_zeros > prev_n_zeros:\n",
    "            max_idx = idx\n",
    "            max_row = rows_with_zeros[idx][0][0]\n",
    "            prev_n_zeros = n_zeros\n",
    "            \n",
    "    lines = [rows_with_zeros[max_idx]]\n",
    "    \n",
    "    while 1:\n",
    "        #(3) Check the columns for zeros\n",
    "        for col in np.arange(max_row, cols):\n",
    "            indices = cost_matrix[max_row, cost_matrix[max_row, col] == 0][0]\n",
    "            nindices = len(indices)\n",
    "            if nindices > 1:\n",
    "                print('col: ', indices)\n",
    "                lines.append(([max_row, np.arange(0, cols)], nindices))\n",
    "\n",
    "        print('Number of lines: ', len(lines))\n",
    "        print(lines)\n",
    "        \n",
    "        if len(lines) == n:\n",
    "            print('\\nFound optimum!\\n')\n",
    "            break\n",
    "        \n",
    "        #(4) Find smallest entry and subtract from all\n",
    "        min_value = 100000000000000\n",
    "        location = None\n",
    "        for row in np.arange(0, rows):\n",
    "            for col in np.arange(0, cols):\n",
    "                if min_value > cost_matrix_np[row, col] and cost_matrix_np[row, col] != 0:\n",
    "                    print(cost_matrix_np[row, col])\n",
    "                    min_value = cost_matrix_np[row, col]\n",
    "                    location = (row, col)\n",
    "                    \n",
    "        min_row_value = cost_matrix_np[location[0], location[1]]\n",
    "        \n",
    "        if location is not None:\n",
    "            for row in np.arange(0, rows):\n",
    "                if np.count_nonzero(cost_matrix_np[row, :]) == 0: \n",
    "                    continue\n",
    "                cost_matrix_np[row, :] -= min_row_value\n",
    "        \n",
    "        print(cost_matrix_np)\n",
    "        \n",
    "        #(5) Add entry to all covered columns (from lines)\n",
    "        \n",
    "        \n",
    "        raise('debug')\n",
    "    \n",
    "    return lines"
   ]
  },
  {
   "cell_type": "code",
   "execution_count": 35,
   "metadata": {},
   "outputs": [
    {
     "name": "stdout",
     "output_type": "stream",
     "text": [
      "[[   0  500 2500]\n",
      " [   0 2000 1000]\n",
      " [   0    0    0]]\n",
      "row:  2\n",
      "Rows with zeros in them:  [([2, array([0, 1, 2])], 3)]\n",
      "col:  [0 0 0]\n",
      "Number of lines:  2\n",
      "[([2, array([0, 1, 2])], 3), ([2, array([0, 1, 2])], 3)]\n",
      "500\n",
      "[[-500    0 2000]\n",
      " [-500 1500  500]\n",
      " [   0    0    0]]\n"
     ]
    },
    {
     "ename": "TypeError",
     "evalue": "exceptions must derive from BaseException",
     "output_type": "error",
     "traceback": [
      "\u001b[0;31m---------------------------------------------------------------------------\u001b[0m",
      "\u001b[0;31mTypeError\u001b[0m                                 Traceback (most recent call last)",
      "\u001b[0;32m<ipython-input-35-5972145fa014>\u001b[0m in \u001b[0;36m<module>\u001b[0;34m\u001b[0m\n\u001b[1;32m     11\u001b[0m ])\n\u001b[1;32m     12\u001b[0m \u001b[0;34m\u001b[0m\u001b[0m\n\u001b[0;32m---> 13\u001b[0;31m \u001b[0massignments\u001b[0m \u001b[0;34m=\u001b[0m \u001b[0mhungarian\u001b[0m\u001b[0;34m(\u001b[0m\u001b[0mcost_matrix\u001b[0m\u001b[0;34m)\u001b[0m\u001b[0;34m\u001b[0m\u001b[0;34m\u001b[0m\u001b[0m\n\u001b[0m\u001b[1;32m     14\u001b[0m \u001b[0;34m\u001b[0m\u001b[0m\n\u001b[1;32m     15\u001b[0m \u001b[0mprint\u001b[0m\u001b[0;34m(\u001b[0m\u001b[0massignments\u001b[0m\u001b[0;34m)\u001b[0m\u001b[0;34m\u001b[0m\u001b[0;34m\u001b[0m\u001b[0m\n",
      "\u001b[0;32m<ipython-input-34-0fafd0262f68>\u001b[0m in \u001b[0;36mhungarian\u001b[0;34m(cost_matrix_np)\u001b[0m\n\u001b[1;32m     79\u001b[0m \u001b[0;34m\u001b[0m\u001b[0m\n\u001b[1;32m     80\u001b[0m \u001b[0;34m\u001b[0m\u001b[0m\n\u001b[0;32m---> 81\u001b[0;31m         \u001b[0;32mraise\u001b[0m\u001b[0;34m(\u001b[0m\u001b[0;34m'debug'\u001b[0m\u001b[0;34m)\u001b[0m\u001b[0;34m\u001b[0m\u001b[0;34m\u001b[0m\u001b[0m\n\u001b[0m\u001b[1;32m     82\u001b[0m \u001b[0;34m\u001b[0m\u001b[0m\n\u001b[1;32m     83\u001b[0m     \u001b[0;32mreturn\u001b[0m \u001b[0mlines\u001b[0m\u001b[0;34m\u001b[0m\u001b[0;34m\u001b[0m\u001b[0m\n",
      "\u001b[0;31mTypeError\u001b[0m: exceptions must derive from BaseException"
     ]
    }
   ],
   "source": [
    "cost_matrix_optimal = np.array([\n",
    "    [2500, 4000, 3500],\n",
    "    [4000, 6000, 3500],\n",
    "    [2000, 4000, 2500]\n",
    "])\n",
    "\n",
    "cost_matrix = np.array([\n",
    "    [1500, 4000, 4500],\n",
    "    [2000, 6000, 3500],\n",
    "    [2000, 4000, 2500]\n",
    "])\n",
    "\n",
    "assignments = hungarian(cost_matrix)\n",
    "\n",
    "print(assignments)"
   ]
  },
  {
   "cell_type": "code",
   "execution_count": null,
   "metadata": {},
   "outputs": [],
   "source": []
  }
 ],
 "metadata": {
  "kernelspec": {
   "display_name": "Python 3",
   "language": "python",
   "name": "python3"
  },
  "language_info": {
   "codemirror_mode": {
    "name": "ipython",
    "version": 3
   },
   "file_extension": ".py",
   "mimetype": "text/x-python",
   "name": "python",
   "nbconvert_exporter": "python",
   "pygments_lexer": "ipython3",
   "version": "3.7.4"
  }
 },
 "nbformat": 4,
 "nbformat_minor": 4
}
